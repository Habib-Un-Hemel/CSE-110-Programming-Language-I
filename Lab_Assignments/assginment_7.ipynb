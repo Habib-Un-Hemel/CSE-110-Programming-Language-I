{
 "cells": [
  {
   "cell_type": "markdown",
   "metadata": {
    "id": "oMYzsTcnHEll"
   },
   "source": [
    "# CSE110 Lab Assignment 7 on Sorting and Searching\n",
    "\n",
    "Write your name, student id and CSE110 section below:\n"
   ]
  },
  {
   "cell_type": "code",
   "execution_count": null,
   "metadata": {
    "id": "ljd7OxU2gvWb"
   },
   "outputs": [],
   "source": []
  },
  {
   "cell_type": "markdown",
   "metadata": {
    "id": "jT-t2zlnHEll"
   },
   "source": [
    "## Write the Python code for the following problems:\n",
    "**<font color='red'>[MUST MAINTAIN VARIABLE NAMING CONVENTIONS FOR ALL THE TASKS]</font>**\n",
    "\n",
    "### Task 1\n",
    "\n",
    "Suppose you have a list named my_list as given below. <br/>\n",
    "my_list = [10,1,20,3,6,2,5,11,15,2,12,14,17,18,29] <br/>\n",
    "Now use bubble sort to sort my_list into ascending order.\n",
    "\n",
    "**Output**<br/>\n",
    "[1, 2, 2, 3, 5, 6, 10, 11, 12, 14, 15, 17, 18, 20, 29]"
   ]
  },
  {
   "cell_type": "code",
   "execution_count": 9,
   "metadata": {
    "id": "7qXVakLgHElm"
   },
   "outputs": [
    {
     "name": "stdout",
     "output_type": "stream",
     "text": [
      "Sorted list : [1, 2, 2, 3, 5, 6, 10, 11, 12, 14, 15, 17, 18, 20, 29]\n"
     ]
    }
   ],
   "source": [
    "my_list = [10,1,20,3,6,2,5,11,15,2,12,14,17,18,29]\n",
    "def bubble_sorting(a_list):\n",
    "    for num1 in range(len(a_list)-1):\n",
    "        for num2 in range(0, len(a_list)-num1-1):\n",
    "            if a_list[num2] > a_list[num2+1]:\n",
    "                temp = a_list[num2]\n",
    "                a_list[num2] = a_list[num2+1]\n",
    "                a_list[num2+1]= temp\n",
    "    print(\"Sorted list :\",a_list)\n",
    "bubble_sorting(my_list)"
   ]
  },
  {
   "cell_type": "markdown",
   "metadata": {
    "id": "w1QgeWd2HElp"
   },
   "source": [
    "### Task 2\n",
    "\n",
    "Suppose you have a list named my_list as given below. <br/>\n",
    "my_list = [10,1,20,3,6,2,5,11,15,2,12,14,17,18,29] <br/>\n",
    "Now use selection sort to sort my_list into ascending order.\n",
    "\n",
    "**Output**<br/>\n",
    "[1, 2, 2, 3, 5, 6, 10, 11, 12, 14, 15, 17, 18, 20, 29]\n",
    "\n"
   ]
  },
  {
   "cell_type": "code",
   "execution_count": 6,
   "metadata": {
    "id": "am0B_8ICHElq"
   },
   "outputs": [
    {
     "name": "stdout",
     "output_type": "stream",
     "text": [
      "Sorted list : [1, 2, 2, 3, 5, 6, 10, 11, 12, 14, 15, 17, 18, 20, 29]\n"
     ]
    }
   ],
   "source": [
    "my_list = [10,1,20,3,6,2,5,11,15,2,12,14,17,18,29]\n",
    "def selection_sorting (a_list):\n",
    "    for i in range(len(a_list)):\n",
    "        minimum = a_list[i]\n",
    "        minimum_index = i\n",
    "        for j in range(i+1, len(a_list)):\n",
    "            if a_list[j] < minimum:\n",
    "                minimum = a_list[j]\n",
    "                minimum_index = j\n",
    "        extra = a_list[minimum_index]\n",
    "        a_list[minimum_index] = a_list[i]\n",
    "        a_list[i] = extra\n",
    "    print(\"Sorted list :\",a_list)\n",
    "selection_sorting(my_list)"
   ]
  },
  {
   "cell_type": "markdown",
   "metadata": {
    "id": "j4ffr2CAHElt"
   },
   "source": [
    "### Task  3\n",
    "\n",
    "Suppose you have a list named my_list as given below <br/>\n",
    "my_list=[10,1,20,3,6,2,5,11,15,2,12,14,17,18,29] <br/>\n",
    "Now use any of the two sorting techniques you have used above to sort the list in descending order.\n",
    "\n",
    "**Output**<br/>\n",
    "[29, 20, 18, 17, 15, 14, 12, 11, 10, 6, 5, 3, 2, 2, 1]\n"
   ]
  },
  {
   "cell_type": "code",
   "execution_count": 7,
   "metadata": {
    "id": "n2X3YR-_HElt"
   },
   "outputs": [
    {
     "name": "stdout",
     "output_type": "stream",
     "text": [
      "Sorted list : [29, 20, 18, 17, 15, 14, 12, 11, 10, 6, 5, 3, 2, 2, 1]\n"
     ]
    }
   ],
   "source": [
    "my_list=[10,1,20,3,6,2,5,11,15,2,12,14,17,18,29]\n",
    "def selection_sorting (a_list):\n",
    "    for i in range(len(a_list)):\n",
    "        minimum = a_list[i]\n",
    "        minimum_index = i\n",
    "        for j in range(i+1, len(a_list)):\n",
    "            if a_list[j] > minimum:\n",
    "                minimum = a_list[j]\n",
    "                minimum_index = j\n",
    "        extra = a_list[minimum_index]\n",
    "        a_list[minimum_index] = a_list[i]\n",
    "        a_list[i] = extra\n",
    "    print(\"Sorted list :\",a_list)\n",
    "selection_sorting(my_list)"
   ]
  },
  {
   "cell_type": "markdown",
   "metadata": {
    "id": "9iYiiTWWHElw"
   },
   "source": [
    "### Task 4\n",
    "\n",
    "Suppose you have a sitting arrangement of the students who will give the final exam in a list. The list contains the last two digits of their student ID as given below.<br/>\n",
    "\n",
    "sitting_list = [10,30,20,70,11,15,22,16,58,100,12,56,70,80] <br/>\n",
    "\n",
    "Now you want to organize the sitting arrangement of the students in your own way. You decide to sort all the students in the even indices of the list in ascending order and all the students in the odd indices of the list in descending order.  <br/>\n",
    "\n",
    "So, write a python program that organizes the list for you in this way.<br/>\n",
    "\n",
    "\n",
    "**Sample Output**<br/>\n",
    "[10, 100, 11, 80, 12, 70, 20, 56, 22, 30, 58, 16, 70, 15]"
   ]
  },
  {
   "cell_type": "code",
   "execution_count": 17,
   "metadata": {
    "id": "nPdUAKDJHElw"
   },
   "outputs": [
    {
     "name": "stdout",
     "output_type": "stream",
     "text": [
      "Sorted list : [10, 100, 11, 80, 12, 70, 20, 56, 22, 30, 58, 16, 70, 15]\n"
     ]
    }
   ],
   "source": [
    "sitting_list = [10,30,20,70,11,15,22,16,58,100,12,56,70,80]\n",
    "def even_odd_sort(a_list):\n",
    "    even_list = []\n",
    "    odd_list = []\n",
    "    for i in range(len(a_list)):\n",
    "        if i%2 == 0 :\n",
    "            even_list.append(a_list[i])\n",
    "        else:\n",
    "            odd_list.append(a_list[i])\n",
    "    even_list.sort(reverse=False)\n",
    "    odd_list.sort(reverse=True)\n",
    "    sorted_list = []\n",
    "    for i in range(len(even_list)):\n",
    "        sorted_list.append(even_list[i])\n",
    "        sorted_list.append(odd_list[i])\n",
    "    print(\"Sorted list :\",sorted_list)\n",
    "even_odd_sort(sitting_list)"
   ]
  },
  {
   "cell_type": "markdown",
   "metadata": {
    "id": "oVR1Tsa0HElz"
   },
   "source": [
    "### Task 5\n",
    "\n",
    "Suppose a list contains marks earned in the courses CSE110, PHY111, and MAT110 of each student consecutively in a nested list form. Your task is to take a course name as input from the user and sort the list based on the marks obtained in that course in order to finally print the names of the students in descending order of marks obtained i.e. from the student who earned the highest marks to the student who earned the lowest. <br/>\n",
    "\n",
    "For example, the list may look like <br/>\n",
    "lst = [ [\"Alan\", 95, 87, 91], [\"Turing\", 92, 90, 83], [\"Elon\", 87, 92, 80], [\"Musk\", 85, 94, 90] ] <br/>\n",
    "where for each nested list, 1st index holds the name of the student, 2nd index is total marks earned in the CSE110 course, 3rd index is PHY111 marks and 4th index is MAT110 marks. \n",
    "\n",
    "=====================================================\n",
    "\n",
    "**Hint:**<br/>\n",
    "You may create a function for sorting, then call it every time when needed instead of rewriting the code.\n",
    "\n",
    "You may get the data in the individual lists from the given nested list.\n",
    "\n",
    "=====================================================\n",
    "\n",
    "**Sample Input 1**<br/>\n",
    "MAT110\n",
    "\n",
    "**Sample Output 1**<br/>\n",
    "Alan <br/>\n",
    "Musk <br/>\n",
    "Turing <br/>\n",
    "Elon\n",
    "\n",
    "**Explanation:**<br/>\n",
    "Here the user gives us \"MAT110\" as the course name. Now, the students Alan, Turing, Elon and Musk earned 91, 83, 80 and 90 marks respectively in this course. If we sort it, Alan got the highest marks of 91 followed by Musk with 90 marks and Turing with 83 marks. Among these 4 students, Elon obtained the lowest marks in the MAT110 course with 80 marks. All of these has been illustrated in our sample output.\n",
    "\n",
    "=====================================================\n",
    "\n",
    "**Sample Input 2**<br/>\n",
    "PHY111\n",
    "\n",
    "**Sample Output 2**<br/>\n",
    "Musk <br/>\n",
    "Elon <br/>\n",
    "Turing <br/>\n",
    "Alan"
   ]
  },
  {
   "cell_type": "code",
   "execution_count": 19,
   "metadata": {
    "id": "539b2P1NHElz"
   },
   "outputs": [
    {
     "name": "stdout",
     "output_type": "stream",
     "text": [
      "Enter a course name : PHY111\n",
      "Musk\n",
      "Elon\n",
      "Turing\n",
      "Alan\n"
     ]
    }
   ],
   "source": [
    "lst = [ [\"Alan\", 95, 87, 91], [\"Turing\", 92, 90, 83], [\"Elon\", 87, 92, 80], [\"Musk\", 85, 94, 90] ]\n",
    "def position(course):\n",
    "    number_dict = {}\n",
    "    for i in range(len(lst)):\n",
    "        if course == \"CSE110\":\n",
    "            number_dict[lst[i][0]]= lst[i][1]\n",
    "        elif course == \"PHY111\":\n",
    "            number_dict[lst[i][0]]= lst[i][2]\n",
    "        elif course == \"MAT110\":\n",
    "            number_dict[lst[i][0]]= lst[i][3]\n",
    "    sorted_dict = sorted(number_dict.items(), key=lambda x:x[1], reverse=True)\n",
    "    for tuples in sorted_dict:\n",
    "        print(tuples[0])\n",
    "course_name = input(\"Enter a course name : \")\n",
    "position(course_name)"
   ]
  },
  {
   "cell_type": "markdown",
   "metadata": {
    "id": "B0Rqbyi4HEl2"
   },
   "source": [
    "### Task 6\n",
    "\n",
    "Suppose you have a list named my_list as given below. Your task is to sort the list in ascending order and print the count of numbers that have changed their positions in the process of sorting. <br/>\n",
    "\n",
    "my_list = [4, 2, 3, 1, 6, 5] <br/>\n",
    "\n",
    "Sorted list would be [1, 2, 3, 4, 5, 6] where 4 numbers (4, 1, 6 and 5) have changed their positions. Therefore our sample output here would be 4. Please check if your code is working correctly by changing the above list and using the knowledge given here to verify whether your code gives correct output for all different lists.\n",
    "\n",
    "\n",
    "**Sample Output for the above list**<br/>\n",
    "4"
   ]
  },
  {
   "cell_type": "code",
   "execution_count": 13,
   "metadata": {
    "id": "AMc8jAa7HEl2"
   },
   "outputs": [
    {
     "name": "stdout",
     "output_type": "stream",
     "text": [
      "Position changed : 4\n"
     ]
    }
   ],
   "source": [
    "my_list =  [4, 2, 3, 1, 6, 5]\n",
    "clone_list = my_list.copy()\n",
    "def bubble_sorting(a_list):\n",
    "    count = 0\n",
    "    for num1 in range(len(a_list)-1):\n",
    "        for num2 in range(0, len(a_list)-num1-1):\n",
    "            if a_list[num2] > a_list[num2+1]:\n",
    "                temp = a_list[num2]\n",
    "                a_list[num2] = a_list[num2+1]\n",
    "                a_list[num2+1]= temp\n",
    "    for i in range(len(a_list)):\n",
    "        if a_list[i] != clone_list[i]:\n",
    "            count+= 1\n",
    "    print(\"Position changed :\",count)\n",
    "bubble_sorting(my_list)\n"
   ]
  },
  {
   "cell_type": "markdown",
   "metadata": {
    "id": "iIH5n0sJHEl5"
   },
   "source": [
    "### Task 7\n",
    "\n",
    "Write a python program that takes two lists from the user, merges the two lists, sorts the resulting list, and then finds the median of the elements in the two lists.\n",
    "\n",
    "=====================================================\n",
    "\n",
    "\n",
    "**Sample Input 1**<br/>\n",
    "list_one = [1, 2, 1, 4] <br/>\n",
    "list_two = [5, 4, 1]\n",
    "\n",
    "\n",
    "**Sample Output 1**<br/>\n",
    "Sorted list = [1, 1, 1, 2, 4, 4, 5] <br/>\n",
    "Median = 2\n",
    "\n",
    "=====================================================\n",
    "\n",
    "\n",
    "**Sample Input 2**<br/>\n",
    "list_one = [1, 7, 9, 10] <br/>\n",
    "list_two = [2, 7, 6, 5]\n",
    "\n",
    "\n",
    "**Sample Output 2**<br/>\n",
    "Sorted list = [1, 2, 5, 6, 7, 7, 9, 10] <br/>\n",
    "Median = 6.5\n",
    "\n"
   ]
  },
  {
   "cell_type": "code",
   "execution_count": 20,
   "metadata": {
    "id": "KsFxC7XbHEl6"
   },
   "outputs": [
    {
     "name": "stdout",
     "output_type": "stream",
     "text": [
      "Sorted list : [1, 2, 5, 6, 7, 7, 9, 10]\n",
      "Median : 6.5\n"
     ]
    }
   ],
   "source": [
    "list_one = [1, 7, 9, 10]\n",
    "list_two = [2, 7, 6, 5]\n",
    "\n",
    "def bubble_sorting(list1,list2):\n",
    "    merged_list = list1 + list2\n",
    "    for num1 in range(len(merged_list)-1):\n",
    "        for num2 in range(0, len(merged_list)-num1-1):\n",
    "            if merged_list[num2] > merged_list[num2+1]:\n",
    "                temp = merged_list[num2]\n",
    "                merged_list[num2] = merged_list[num2+1]\n",
    "                merged_list[num2+1]= temp\n",
    "    print(\"Sorted list :\",merged_list)\n",
    "    median = 0\n",
    "    index = len(merged_list) // 2\n",
    "    if len(merged_list)%2 == 0:\n",
    "        median = (merged_list[index-1]+merged_list[index])/2\n",
    "    else:\n",
    "        median = merged_list[index]\n",
    "    print(\"Median :\",median)\n",
    "\n",
    "\n",
    "bubble_sorting(list_one,list_two)\n"
   ]
  },
  {
   "cell_type": "markdown",
   "metadata": {
    "id": "-XKiwBR1HEl8"
   },
   "source": [
    "### Task 8\n",
    "\n",
    "\n",
    "Write a python program that takes a list from user containing both positive and negative numbers. The program then finds two pairs of values whose summation is closest to zero.\n",
    "\n",
    "=====================================================\n",
    "\n",
    "**Sample Input 1**<br/>\n",
    "list_one = [-10, 15, 2, 4, -4, 7, -8] \n",
    "\n",
    "\n",
    "**Sample Output 1**<br/>\n",
    "Two pairs which have the smallest sum = 4 and -4\n",
    "\n",
    "=====================================================\n",
    "\n",
    "\n",
    "**Sample Input 2**<br/>\n",
    "list_one = [1, -8, 4, -7, -20, 26, 70, -85]\n",
    "\n",
    "\n",
    "**Sample Output 2**<br/>\n",
    "Two pairs which have the smallest sum = 4 and -7"
   ]
  },
  {
   "cell_type": "code",
   "execution_count": 21,
   "metadata": {
    "id": "5ORSGa5GHEl9"
   },
   "outputs": [
    {
     "name": "stdout",
     "output_type": "stream",
     "text": [
      "Enter numbers using coma(,):1, -8, 4, -7, -20, 26, 70, -85\n",
      "Two pairs which have the smallest sum = 4 and -7\n"
     ]
    }
   ],
   "source": [
    "list_one = list(map(int,input(\"Enter numbers using coma(,):\").split(\",\")))\n",
    "def close_pair(a_list):\n",
    "    list_len = len(a_list)\n",
    "    if list_len < 2:\n",
    "        print(\"Invalid Input\")\n",
    "        return\n",
    "    numb_one = a_list[0]\n",
    "    numb_two = a_list[1]\n",
    "    total = a_list[0] + a_list[1]\n",
    "    for i in range(0, list_len - 1):\n",
    "        for j in range(i + 1, list_len):\n",
    "            total2 = a_list[i] + a_list[j]\n",
    "            total= abs(total)\n",
    "            total2 = abs(total2)\n",
    "            if total > total2:\n",
    "                total = total2\n",
    "                numb_one = i\n",
    "                numb_two = j\n",
    "    print(f\"Two pairs which have the smallest sum = {a_list[numb_one]} and {a_list[numb_two]}\")\n",
    "close_pair(list_one)"
   ]
  },
  {
   "cell_type": "code",
   "execution_count": null,
   "metadata": {},
   "outputs": [],
   "source": []
  }
 ],
 "metadata": {
  "colab": {
   "collapsed_sections": [],
   "name": "CSE110 Lab Assignment 7 (Sorting and Searching).ipynb",
   "provenance": []
  },
  "kernelspec": {
   "display_name": "Python 3",
   "language": "python",
   "name": "python3"
  },
  "language_info": {
   "codemirror_mode": {
    "name": "ipython",
    "version": 3
   },
   "file_extension": ".py",
   "mimetype": "text/x-python",
   "name": "python",
   "nbconvert_exporter": "python",
   "pygments_lexer": "ipython3",
   "version": "3.8.8"
  }
 },
 "nbformat": 4,
 "nbformat_minor": 1
}
