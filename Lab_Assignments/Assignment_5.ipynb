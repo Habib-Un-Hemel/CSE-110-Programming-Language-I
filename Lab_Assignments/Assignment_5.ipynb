{
  "cells": [
    {
      "cell_type": "markdown",
      "metadata": {
        "id": "U4PRkuyUtDRw"
      },
      "source": [
        "# CSE110 Assignment 5\n",
        "\n",
        "\n",
        "## Write the Python code of the following problems:\n",
        "**<font color='red'>[MUST MAINTAIN VARIABLE NAMING CONVENTIONS FOR ALL THE TASKS]</font>**\n"
      ]
    },
    {
      "cell_type": "markdown",
      "metadata": {
        "id": "PD425BrvtDRy"
      },
      "source": [
        "## Part 1: Tuple"
      ]
    },
    {
      "cell_type": "markdown",
      "metadata": {
        "id": "FNOorLYXtDRz"
      },
      "source": [
        "### Task 1\n",
        "\n",
        "Assume, you have been given a tuple.\n",
        "\n",
        "a_tuple = (\"The Institute\",\\\n",
        "        (\"Best Mystery & Thriller\", \"The Silent Patient\", 68821),\\\n",
        "        75717,\\\n",
        "        [1, 2, 3, 400, 5, 6, 7],\\\n",
        "        (\"Best Fiction\", \"The Testaments\", 98291)\\\n",
        ")\n",
        "\n",
        "Write **one line** of Python code to access and print the value 400.\n",
        "\n",
        "Output: 400\n",
        "\n"
      ]
    },
    {
      "cell_type": "code",
      "execution_count": null,
      "metadata": {
        "id": "NDKB1cIMtDR0",
        "outputId": "596c05e2-6724-41e1-a497-cd0e62a02685"
      },
      "outputs": [
        {
          "name": "stdout",
          "output_type": "stream",
          "text": [
            "400\n"
          ]
        }
      ],
      "source": [
        "#TODO\n",
        "a_tuple = (\"The Institute\",\n",
        "(\"Best Mystery & Thriller\", \"The Silent Patient\", 68821),\n",
        "75717,\n",
        "[1, 2, 3, 400, 5, 6, 7],\n",
        "(\"Best Fiction\", \"The Testaments\", 98291)\n",
        ")\n",
        "\n",
        "\n",
        "print(a_tuple[-2][-4])\n",
        "\n"
      ]
    },
    {
      "cell_type": "markdown",
      "metadata": {
        "id": "BXlIw1svtDR-"
      },
      "source": [
        "### Task 2\n",
        "\n",
        "Assume, you have been given a tuple.\n",
        "\n",
        "a_tuple =  (10, 20, 24, 25, 26, 35, 70)\n",
        "\n",
        "Write a Python program that creates a **new tuple** excluding the first and last two elements of the given tuple and prints the new tuple.\n",
        "\n",
        "Output: (24, 25, 26)\n",
        "\n",
        "*Hint: You need to use tuple slicing.*\n"
      ]
    },
    {
      "cell_type": "code",
      "execution_count": null,
      "metadata": {
        "id": "FTJ-5AmNtDR_",
        "outputId": "0c527d67-fe14-45b3-dd5e-b5de697606a5"
      },
      "outputs": [
        {
          "name": "stdout",
          "output_type": "stream",
          "text": [
            "(24, 25, 26)\n"
          ]
        }
      ],
      "source": [
        "#Todo\n",
        "\n",
        "\n",
        "\n",
        "a_tuple = (10, 20, 24, 25, 26, 35, 70)\n",
        "\n",
        "new_tuple = a_tuple[2:-2]\n",
        "print(new_tuple)\n",
        "\n"
      ]
    },
    {
      "cell_type": "markdown",
      "metadata": {
        "id": "Z3GS2TE6tDSG"
      },
      "source": [
        "### Task 3\n",
        "\n",
        "Assume, you have been given a tuple.\n",
        "\n",
        "\n",
        "book_info = (\\\n",
        "    (\"Best Mystery & Thriller\",\"The Silent Patient\",68,821),\\\n",
        "    (\"Best Horror\",\"The Institute\",75,717),\\\n",
        "    (\"Best History & Biography\",\"The five\",31,783 ),\\\n",
        "    (\"Best Fiction\",\"The Testaments\",98,291)\\\n",
        ")\n",
        "\n",
        "Write a Python program that prints its size and all its elements.\n",
        "\n",
        "Output:\\\n",
        "Size of the tuple is: 4\\\n",
        "('Best Mystery & Thriller', 'The Silent Patient', 68, 821)\\\n",
        "('Best Horror', 'The Institute', 75, 717)\\\n",
        "('Best History & Biography', 'The five', 31, 783)\\\n",
        "('Best Fiction', 'The Testaments', 98, 291)\n"
      ]
    },
    {
      "cell_type": "code",
      "execution_count": null,
      "metadata": {
        "id": "RPFYcAjntDSG",
        "outputId": "fada220d-372a-4125-a4f2-dd34ae7dceae"
      },
      "outputs": [
        {
          "name": "stdout",
          "output_type": "stream",
          "text": [
            "Size of the tuple is: 4\n",
            "('Best Mystery & Thriller', 'The Silent Patient', 68, 821)\n",
            "('Best Horror', 'The Institute', 75, 717)\n",
            "('Best History & Biography', 'The five', 31, 783)\n",
            "('Best Fiction', 'The Testaments', 98, 291)\n"
          ]
        }
      ],
      "source": [
        "#Todo\n",
        "book_info = (\n",
        "(\"Best Mystery & Thriller\",\"The Silent Patient\",68,821),\n",
        "(\"Best Horror\",\"The Institute\",75,717),\n",
        "(\"Best History & Biography\",\"The five\",31,783 ),\n",
        "(\"Best Fiction\",\"The Testaments\",98,291)\n",
        ")\n",
        "count = len(book_info)\n",
        "print(\"Size of the tuple is:\" ,count)\n",
        "for tuple in book_info:\n",
        "    print(tuple)\n"
      ]
    },
    {
      "cell_type": "markdown",
      "metadata": {
        "id": "glKgAPlGtDSK"
      },
      "source": [
        "### Task 4\n",
        "\n",
        "Assume, you have been given a tuple.\n",
        "\n",
        "book_info = (\\\n",
        "    (\"Best Mystery & Thriller\",\"The Silent Patient\",68821),\\\n",
        "    (\"Best Horror\",\"The Institute\",75717),\\\n",
        "    (\"Best History & Biography\",\"The five\",31783 ),\\\n",
        "    (\"Best Fiction\",\"The Testaments\",98291)\\\n",
        ")\n",
        "\n",
        "Write a Python program that prints the information about the Good Reads Choice Awards from a tuple. Your program should print the award category, the book name, and its total votes needed for the win.\n",
        "\n",
        "**Output:**\\\n",
        "The Silent Patient won the 'Best Mystery & Thriller' category with 68821 votes\\\n",
        "The Institute won the 'Best Horror' category with 75717 votes\\\n",
        "The five won the 'Best History & Biography' category with 31783 votes\\\n",
        "The Testaments won the 'Best Fiction' category with 98291 votes\n",
        "\n",
        "*Hint: You need to handle the quotation marks as a part of the output.*\n",
        "**<font color='red'>[Must use Tuple unpacking for printing.]</font>**\n",
        "\n",
        "\n"
      ]
    },
    {
      "cell_type": "code",
      "execution_count": null,
      "metadata": {
        "id": "LgTKpSGatDSM",
        "outputId": "43cc905a-0e8b-467a-efc3-6a06a7e8e6a4"
      },
      "outputs": [
        {
          "name": "stdout",
          "output_type": "stream",
          "text": [
            "The Silent Patient won the 'Best Mystery & Thriller' category with 68821 votes\n",
            "The Institute won the 'Best Horror' category with 75717 votes\n",
            "The five won the 'Best History & Biography' category with 31783 votes\n",
            "The Testaments won the 'Best Fiction' category with 98291 votes\n"
          ]
        }
      ],
      "source": [
        "#Todo\n",
        "book_info = (\n",
        "(\"Best Mystery & Thriller\",\"The Silent Patient\",68821),\n",
        "(\"Best Horror\",\"The Institute\",75717),\n",
        "(\"Best History & Biography\",\"The five\",31783 ),\n",
        "(\"Best Fiction\",\"The Testaments\",98291)\n",
        ")\n",
        "\n",
        "for value1,value2,value3 in book_info:\n",
        "    print(f\"{value2} won the '{value1}' category with {value3} votes\")\n"
      ]
    },
    {
      "cell_type": "markdown",
      "metadata": {
        "id": "hoElNRL6tDSR"
      },
      "source": [
        "### Task 5\n",
        "\n",
        "Assume, you have been given a tuple.\n",
        "\n",
        "a_tuple = ( [1, 2, 3], [4, 5, 6], [7, 8, 9], [10, 11, 12])\n",
        "\n",
        "Write a Python program that asks the user for input (can be any data type) and **replaces the last element of each of the inner lists with the user given value.**\n",
        "\n",
        "**Example 1:**\\\n",
        "Input: “abc”\\\n",
        "Output: ([1, 2, 'abc'], [4, 5, 'abc'], [7, 8, 'abc'], [10, 11, 'abc'])\n",
        "\n",
        "**Example 2:**\\\n",
        "Input: 1000\\\n",
        "Output: ([1, 2, '1000'], [4, 5, '1000'], [7, 8, '1000'], [10, 11, '1000'])\n",
        "\n"
      ]
    },
    {
      "cell_type": "code",
      "execution_count": null,
      "metadata": {
        "id": "mC-B1fpStDST",
        "outputId": "51ae2c0b-2033-4581-dd64-639583858dc7"
      },
      "outputs": [
        {
          "name": "stdout",
          "output_type": "stream",
          "text": [
            "enter value: 1000\n",
            "([1, 2, 1000], [4, 5, 1000], [7, 8, 1000], [10, 11, 1000])\n"
          ]
        }
      ],
      "source": [
        "#Todo\n",
        "\n",
        "a_tuple = ( [1, 2, 3], [4, 5, 6], [7, 8, 9], [10, 11, 12])\n",
        "Input = int(input(\"enter value: \"))  #for int value\n",
        "for item in a_tuple:\n",
        "    item[-1] = Input\n",
        "print(a_tuple)"
      ]
    },
    {
      "cell_type": "markdown",
      "metadata": {
        "id": "km0QurTJtDSX"
      },
      "source": [
        "## Part 2: Dictionary"
      ]
    },
    {
      "cell_type": "markdown",
      "metadata": {
        "id": "QlIVub1VtDSY"
      },
      "source": [
        "### Task 6\n",
        "\n",
        "Suppose there is a dictionary of your shopping list.\n",
        "\n",
        "shopping_list = {'Chocolate': 'Hersheys', 'Cocoa  powder': 'Cadbury', 'Spread': 'Nutella'}\n",
        "\n",
        "Now write a python program to add a new key called 'Baking powder' and assign 'Foster clarks' as its value.\n",
        "\n",
        "**Output:**\\\n",
        "{'Chocolate': 'Hersheys', 'Cocoa  powder': 'Cadbury', 'Spread': 'Nutella', 'Baking powder': 'Foster clarks'}\n"
      ]
    },
    {
      "cell_type": "code",
      "execution_count": null,
      "metadata": {
        "id": "tCLaSZP-tDSZ",
        "outputId": "a5f89490-9854-464a-bb9c-1845e16d5a3a"
      },
      "outputs": [
        {
          "name": "stdout",
          "output_type": "stream",
          "text": [
            "{'Chocolate': 'Hersheys', 'Cocoa powder': 'Cadbury', 'Spread': 'Nutella', 'Baking powder': 'Foster clarks'}\n"
          ]
        }
      ],
      "source": [
        "#todo\n",
        "shopping_list = {'Chocolate': 'Hersheys', 'Cocoa powder': 'Cadbury', 'Spread': 'Nutella'}\n",
        "shopping_list.update({'Baking powder':'Foster clarks'})\n",
        "print(shopping_list)\n"
      ]
    },
    {
      "cell_type": "markdown",
      "metadata": {
        "id": "kvV-HnCntDSc"
      },
      "source": [
        "### Task 7\n",
        "Suppose you are given the following two dictionaries.\\\n",
        "marks_boys = {'Harry':15, 'Draco':8, 'Nevil':19}\\\n",
        "marks_girls = {'Ginie':18, 'Luna': 14}\n",
        "\n",
        "Now create a new dictionary marks merging the two of the above dictionaries, **so that the original two dictionaries remain unchanged.**\n",
        "\n",
        "**Output:**\\\n",
        "{'Harry': 15, 'Draco': 8, 'Nevil': 19, 'Ginie': 18, 'Luna': 14}\n",
        "\n",
        "*Hint: You can use dictionary functions.*\n"
      ]
    },
    {
      "cell_type": "code",
      "execution_count": null,
      "metadata": {
        "id": "BGSyClBPtDSd",
        "outputId": "561c2cf8-8e33-4712-8938-7541fa5ebf3f"
      },
      "outputs": [
        {
          "name": "stdout",
          "output_type": "stream",
          "text": [
            "{'Harry': 15, 'Draco': 8, 'Nevil': 19, 'Ginie': 18, 'Luna': 14}\n"
          ]
        }
      ],
      "source": [
        "#todo\n",
        "marks_boys = {'Harry':15, 'Draco':8, 'Nevil':19}\n",
        "marks_girls = {'Ginie':18, 'Luna': 14}\n",
        "\n",
        "new_marks = marks_boys\n",
        "new_marks.update(marks_girls)\n",
        "\n",
        "print(new_marks)"
      ]
    },
    {
      "cell_type": "markdown",
      "metadata": {
        "id": "QRzP4HYStDSi"
      },
      "source": [
        "### Task 8\n",
        "Write a Python program to find the average of all the values in a dictionary. <font color='red'>[ You are not allowed to use len() and sum()]</font>\n",
        "\n",
        "**Input:**\\\n",
        "salary = {'Jon': 100, 'Dan':200, 'Rob':300}\n",
        "\n",
        "**Output:**\\\n",
        "Average is 200\n",
        "\n",
        "*Hint: You can use dictionary functions to get all the values of the dictionary, then run loop to calculate the sum and the total number of values in the dictionary.*\n"
      ]
    },
    {
      "cell_type": "code",
      "execution_count": null,
      "metadata": {
        "id": "VMRLnA53tDSk",
        "outputId": "6e0614a7-064b-491c-9d13-5ace995cca90"
      },
      "outputs": [
        {
          "name": "stdout",
          "output_type": "stream",
          "text": [
            "Average is 200\n"
          ]
        }
      ],
      "source": [
        "#todo\n",
        "salary = {'Jon': 100, 'Dan':200, 'Rob':300}\n",
        "salary_values = salary.values()\n",
        "sum = 0\n",
        "count = 0\n",
        "for values in salary_values:\n",
        "    sum = sum+values\n",
        "    count= count+1\n",
        "\n",
        "average = int(sum/count)\n",
        "\n",
        "print('Average is',average)\n"
      ]
    },
    {
      "cell_type": "markdown",
      "metadata": {
        "id": "5NS_moXQtDSo"
      },
      "source": [
        "### Task 9\n",
        "Write a Python program that discards **duplicate elements** from the following dictionary. For the common values of the dictionary, only 1 key should be in the output.\n",
        "\n",
        "bank = {'customer1':101, 'customer2':102, 'customer3':101, 'customer4':103, 'customer5':102}\n",
        "\n",
        "**Output:**\\\n",
        "{'customer1': 101, 'customer2': 102, 'customer4': 103}\n",
        "\n",
        "*Hint: Think of membership operators (in and not in). You can use dictionary functions to get the values.*\n"
      ]
    },
    {
      "cell_type": "code",
      "execution_count": null,
      "metadata": {
        "id": "LUKwue_ctDSo",
        "outputId": "b3225378-b368-48db-cd9c-0d83cd654213"
      },
      "outputs": [
        {
          "name": "stdout",
          "output_type": "stream",
          "text": [
            "{'customer1': 101, 'customer2': 102, 'customer4': 103}\n"
          ]
        }
      ],
      "source": [
        "#todo\n",
        "bank = {'customer1':101, 'customer2':102, 'customer3':101, 'customer4':103, 'customer5':102}\n",
        "\n",
        "new_dict = {}\n",
        "for keys,values in bank.items():\n",
        "    if values not in new_dict.values():\n",
        "        new_dict[keys]= values\n",
        "print(new_dict)"
      ]
    },
    {
      "cell_type": "markdown",
      "metadata": {
        "id": "IsqFQpqKtDSs"
      },
      "source": [
        "### Task 10\n",
        "Write a Python program that finds the largest value with its key from the following dictionary. <font color='red'>[without using max() function]</font>\n",
        "\n",
        "book_shop = {'sci fi': 12, 'mystery': 15, 'horror': 8, 'mythology': 10, 'young_adult': 4, 'adventure':14}\n",
        "\n",
        "**Output:**\\\n",
        "The highest selling book genre is mystery and the number of books sold are 15\n",
        "\n",
        "*Hint: Think of membership operators (in and not in). You can use dictionary functions to get the values.*\n"
      ]
    },
    {
      "cell_type": "code",
      "execution_count": null,
      "metadata": {
        "id": "v9Kosgs4tDSt",
        "outputId": "340c8f56-1991-41b8-ce6c-7e6c44328ced"
      },
      "outputs": [
        {
          "name": "stdout",
          "output_type": "stream",
          "text": [
            "The highest selling book genre is mystery and the number of books sold are 15\n"
          ]
        }
      ],
      "source": [
        "#todo\n",
        "book_shop = {'sci fi': 12, 'mystery': 15, 'horror': 8, 'mythology': 10, 'young_adult': 4, 'adventure':14}\n",
        "largest = 12\n",
        "new_dict={}\n",
        "\n",
        "\n",
        "for key,value in book_shop.items():\n",
        "\n",
        "\n",
        "\n",
        "    if value > largest:\n",
        "        largest=value\n",
        "        break\n",
        "\n"
      ]
    },
    {
      "cell_type": "markdown",
      "metadata": {
        "id": "qozufw7itDSy"
      },
      "source": [
        "### Task 11\n",
        "Write a Python program that combines two dictionary adding values for common keys.\n",
        "**Input:**\\\n",
        "dict1 = {'a': 10, 'b':20, 'c':30}\\\n",
        "dict2 = {'a': 10, 'c':20, 'd':30, 'e':40}\n",
        "\n",
        "**Output:**\\\n",
        "{'a': 20, 'b': 20, 'c': 50, 'd': 30, 'e': 40}\n",
        "\n",
        "\n",
        "*Hint: Think of membership operators (in and not in). You can use dictionary functions to get the values. Need to create a new dictionary to store the combined items.*\n"
      ]
    },
    {
      "cell_type": "code",
      "execution_count": null,
      "metadata": {
        "id": "S0EIYODZtDSz",
        "outputId": "8af14a12-036e-497c-dede-51c3c0a0f058"
      },
      "outputs": [
        {
          "name": "stdout",
          "output_type": "stream",
          "text": [
            "{'a': 20, 'b': 20, 'c': 50, 'd': 30, 'e': 40}\n"
          ]
        }
      ],
      "source": [
        "#todo\n",
        "dict1 = {'a': 10, 'b':20, 'c':30}\n",
        "dict2 = {'a': 10, 'c':20, 'd':30, 'e':40}\n",
        "new_dict3={}\n",
        "new_dict3.update(dict1)\n",
        "new_dict3.update(dict2)\n",
        "\n",
        "for key1,value1 in dict1.items():\n",
        "    for key2,value2 in dict2.items():\n",
        "        if key1==key2:\n",
        "            new_dict3[key1] = value1+value2\n",
        "print(new_dict3)\n"
      ]
    },
    {
      "cell_type": "markdown",
      "metadata": {
        "id": "hAqjgwGNtDS2"
      },
      "source": [
        "### Task 12\n",
        "Write a Python program that takes a string as an input from the user and counts the frequency of each character using the dictionary. For solving this problem, you need to use each character as a key and its frequency as values. <font color='red'>[without using count() function]</font>\n",
        "\n",
        "\n",
        "**Input:**\\\n",
        "\"Python programming is fun\"\n",
        "\n",
        "**Output:**\\\n",
        "{'p': 2, 'y': 1, 't': 1, 'h': 1, 'o': 2, 'n': 3, 'r': 2, 'g': 2, 'a': 1, 'm': 2, 'i': 2, 's': 1, 'f': 1, 'u': 1}\n",
        "\n",
        "*Hint: Need to create a new dictionary to store the frequency. Case is ignored (P and p are considered same).*\n",
        "\n"
      ]
    },
    {
      "cell_type": "code",
      "execution_count": null,
      "metadata": {
        "id": "-m2yPIT7tDS3",
        "outputId": "a5bfb985-d96e-4f18-96e1-5be188d29512"
      },
      "outputs": [
        {
          "name": "stdout",
          "output_type": "stream",
          "text": [
            "{'p': 2, 'y': 1, 't': 1, 'h': 1, 'o': 2, 'n': 3, 'r': 2, 'g': 2, 'a': 1, 'm': 2, 'i': 2, 's': 1, 'f': 1, 'u': 1}\n"
          ]
        }
      ],
      "source": [
        "#todo\n",
        "user=  (\"Python programming is fun\").lower()\n",
        "user_input= user.replace(' ','')\n",
        "new_dict = {}\n",
        "\n",
        "for char in user_input:\n",
        "\n",
        "    if char not in new_dict:\n",
        "        new_dict[char]=1\n",
        "    else:\n",
        "        new_dict[char]+=1\n",
        "\n",
        "print(new_dict)"
      ]
    },
    {
      "cell_type": "markdown",
      "metadata": {
        "id": "QWf1zsBctDS6"
      },
      "source": [
        "### Task 13\n",
        "Suppose you are given the following dictionary where its values are lists.\n",
        "\n",
        "\n",
        "dict = {'A': [1,2,3], 'b': ['1', '2'], \"c\": [4, 5, 6, 7]}\n",
        "\n",
        "Write a Python program that counts the total number of items in the dictionary’s values and prints it. <font color='red'>[without using sum() , len(), count() function]</font>\n",
        "\n",
        "**Output:**\\\n",
        "9\n",
        "\n"
      ]
    },
    {
      "cell_type": "code",
      "execution_count": null,
      "metadata": {
        "id": "atnD3A1utDS6",
        "outputId": "00371dbb-08c8-45bb-b1fe-ded3153853bf"
      },
      "outputs": [
        {
          "name": "stdout",
          "output_type": "stream",
          "text": [
            "9\n"
          ]
        }
      ],
      "source": [
        "#todo\n",
        "dict = {'A': [1,2,3], 'b': ['1', '2'], \"c\": [4, 5, 6,7]}\n",
        "toal_values = dict.values()\n",
        "count = 0\n",
        "\n",
        "for value in toal_values:\n",
        "    for num in value:\n",
        "        count= count+1\n",
        "print(count)"
      ]
    },
    {
      "cell_type": "markdown",
      "metadata": {
        "id": "rCCFcYmPtDS-"
      },
      "source": [
        "### Task 14\n",
        "\n",
        "Write a Python program that takes a number (N) from the user and creates a dictionary with all the numbers starting from 1 to N (including) as keys and its cubes as values. Lastly, prints the dictionary.\n",
        "\n",
        "**Example1:**\n",
        "\n",
        "Input: 5\\\n",
        "Output: {1: 1, 2: 8, 3: 27, 4: 64, 5: 125}\n",
        "\n",
        "**Example2:**\n",
        "\n",
        "Input: 3\\\n",
        "Output: {1: 1, 2: 8, 3: 27}\n"
      ]
    },
    {
      "cell_type": "code",
      "execution_count": null,
      "metadata": {
        "id": "1l3nIxHltDS-",
        "outputId": "388a2f42-7c3b-4d47-8c7b-333d6b00969c"
      },
      "outputs": [
        {
          "name": "stdout",
          "output_type": "stream",
          "text": [
            "enter N value: 5\n",
            "{1: 1, 2: 8, 3: 27, 4: 64, 5: 125}\n"
          ]
        }
      ],
      "source": [
        "#todo\n",
        "N = int(input(\"enter N value: \"))\n",
        "\n",
        "new_dic = {}\n",
        "\n",
        "for value in range(1,N+1):\n",
        "    new_dic[value] = value*value*value\n",
        "print(new_dic)"
      ]
    },
    {
      "cell_type": "markdown",
      "metadata": {
        "id": "-imuPb3EtDTD"
      },
      "source": [
        "### Task 15\n",
        "\n",
        "Suppose you have been given the following list of tuples.\n",
        "\n",
        "list = [(\"a\", 1), (\"b\", 2), (\"a\", 3), (\"b\", 1), (\"a\", 2), (\"c\", 1)]\n",
        "\n",
        "Write a Python program that converts this list of tuples into a dictionary and prints the dictionary. <font color='red'>[You are not allowed to use set]</font>\n",
        "\n",
        "**Output:**\n",
        "\n",
        "{'a': [1, 3, 2], 'b': [2, 1], 'c': [1]}\n",
        "\n",
        "*Hint: Think of membership operators (in and not in).*  \n"
      ]
    },
    {
      "cell_type": "code",
      "execution_count": null,
      "metadata": {
        "id": "bBBcHpgYtDTE",
        "outputId": "436e7127-406e-4cf2-99f3-35164a06315e"
      },
      "outputs": [
        {
          "name": "stdout",
          "output_type": "stream",
          "text": [
            "{'a': [1, 3, 2], 'b': [2, 1], 'c': [1]}\n"
          ]
        }
      ],
      "source": [
        "#todo\n",
        "\n",
        "list = [(\"a\", 1), (\"b\", 2), (\"a\", 3), (\"b\", 1), (\"a\", 2), (\"c\", 1)]\n",
        "new_dict = {}\n",
        "\n",
        "for char in list:\n",
        "    key = char[0]\n",
        "    value = char[1]\n",
        "\n",
        "    if key not in new_dict:\n",
        "        new_dict[key] = []\n",
        "        new_dict[key].append(value)\n",
        "    else:\n",
        "        new_dict[char[0]].append(value)\n",
        "print(new_dict)\n",
        "\n",
        "\n",
        "# AnonXarkA"
      ]
    },
    {
      "cell_type": "code",
      "execution_count": null,
      "metadata": {
        "id": "8sBhQBmhtDTI"
      },
      "outputs": [],
      "source": []
    }
  ],
  "metadata": {
    "colab": {
      "provenance": []
    },
    "kernelspec": {
      "display_name": "Python 3",
      "language": "python",
      "name": "python3"
    },
    "language_info": {
      "codemirror_mode": {
        "name": "ipython",
        "version": 3
      },
      "file_extension": ".py",
      "mimetype": "text/x-python",
      "name": "python",
      "nbconvert_exporter": "python",
      "pygments_lexer": "ipython3",
      "version": "3.8.8"
    }
  },
  "nbformat": 4,
  "nbformat_minor": 0
}