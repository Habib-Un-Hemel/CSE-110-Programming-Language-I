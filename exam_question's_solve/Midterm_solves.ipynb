{
 "cells": [
  {
   "cell_type": "code",
   "execution_count": 2,
   "id": "717fd8d9",
   "metadata": {},
   "outputs": [
    {
     "name": "stdout",
     "output_type": "stream",
     "text": [
      "Enter number of rows :6\n",
      "Enter number of collumns :7\n",
      "1======\n",
      "12=====\n",
      "123====\n",
      "1234===\n",
      "12345==\n",
      "123456=\n"
     ]
    }
   ],
   "source": [
    "#Answer of the question no.1:\n",
    "row = int(input(\"Enter number of rows :\"))\n",
    "collumn = int(input(\"Enter number of collumns :\"))\n",
    "num=1\n",
    "for i in range(row):\n",
    "    for j in range(num):\n",
    "        print(j+1,end=\"\")\n",
    "    for k in range(collumn-num):\n",
    "        print(\"=\",end=\"\")\n",
    "    print()\n",
    "    num += 1"
   ]
  },
  {
   "cell_type": "code",
   "execution_count": 6,
   "id": "52c50e0a",
   "metadata": {},
   "outputs": [
    {
     "name": "stdout",
     "output_type": "stream",
     "text": [
      "Enter a string :python notebook\n",
      "Modified string : pytHon noTebOok\n"
     ]
    }
   ],
   "source": [
    "#Answer of the question no.2:\n",
    "user_input = input(\"Enter a string :\")\n",
    "new_word = \"\"\n",
    "for i in range(len(user_input)):\n",
    "    if i == 0:\n",
    "        new_word += user_input[i]\n",
    "    elif user_input[i] == \" \" :\n",
    "        new_word += \" \"\n",
    "    elif i%3 == 0 :\n",
    "        n = chr(ord(user_input[i]) -32)\n",
    "        new_word += n\n",
    "    else:\n",
    "        new_word += user_input[i]\n",
    "print(\"Modified string :\",new_word)"
   ]
  },
  {
   "cell_type": "code",
   "execution_count": null,
   "id": "15e18a56",
   "metadata": {},
   "outputs": [],
   "source": []
  }
 ],
 "metadata": {
  "kernelspec": {
   "display_name": "Python 3",
   "language": "python",
   "name": "python3"
  },
  "language_info": {
   "codemirror_mode": {
    "name": "ipython",
    "version": 3
   },
   "file_extension": ".py",
   "mimetype": "text/x-python",
   "name": "python",
   "nbconvert_exporter": "python",
   "pygments_lexer": "ipython3",
   "version": "3.8.8"
  }
 },
 "nbformat": 4,
 "nbformat_minor": 5
}
